{
 "cells": [
  {
   "cell_type": "code",
   "execution_count": 1,
   "metadata": {},
   "outputs": [
    {
     "name": "stdout",
     "output_type": "stream",
     "text": [
      "已开启代理\n"
     ]
    }
   ],
   "source": [
    "\n",
    "%%bash\n",
    "# 定义 proxy_off 函数\n",
    "function proxy_off() {\n",
    "    unset http_proxy\n",
    "    unset https_proxy\n",
    "    echo -e \"已关闭代理\"\n",
    "}\n",
    "\n",
    "# 定义 proxy_on 函数\n",
    "function proxy_on() {\n",
    "    export no_proxy=\"localhost,127.0.0.1,localaddress,.localdomain.com\"\n",
    "    export http_proxy=\"http://127.0.0.1:8118\"\n",
    "    export https_proxy=$http_proxy\n",
    "    echo -e \"已开启代理\"\n",
    "}\n",
    "\n",
    "# 测试函数\n",
    "proxy_on"
   ]
  },
  {
   "cell_type": "code",
   "execution_count": 2,
   "metadata": {},
   "outputs": [
    {
     "name": "stdout",
     "output_type": "stream",
     "text": [
      "PING www.google.com (198.18.0.228): 56 data bytes\n",
      "64 bytes from 198.18.0.228: icmp_seq=0 ttl=64 time=0.280 ms\n",
      "64 bytes from 198.18.0.228: icmp_seq=1 ttl=64 time=0.219 ms\n",
      "64 bytes from 198.18.0.228: icmp_seq=2 ttl=64 time=0.234 ms\n",
      "64 bytes from 198.18.0.228: icmp_seq=3 ttl=64 time=0.455 ms\n",
      "64 bytes from 198.18.0.228: icmp_seq=4 ttl=64 time=0.265 ms\n",
      "64 bytes from 198.18.0.228: icmp_seq=5 ttl=64 time=0.311 ms\n",
      "^C\n"
     ]
    }
   ],
   "source": [
    "! ping www.google.com"
   ]
  },
  {
   "cell_type": "code",
   "execution_count": 1,
   "metadata": {},
   "outputs": [
    {
     "name": "stdout",
     "output_type": "stream",
     "text": [
      "目标共 285 个，每目标需下载 3 张\n"
     ]
    }
   ],
   "source": [
    "#!/usr/bin/env python3\n",
    "# -*- coding: utf-8 -*-\n",
    "\"\"\"\n",
    "batch_hsc_cutouts_retry_v3.py\n",
    "  · 已存在 FITS 跳过\n",
    "  · 下载失败自动重试\n",
    "  · 每次下载超时 15 s；失败后等待 5 s\n",
    "  · 用 --max-connections 1 代替旧脚本不支持的 --threads\n",
    "\"\"\"\n",
    "\n",
    "from __future__ import annotations\n",
    "import os, shlex, subprocess, time\n",
    "from pathlib import Path\n",
    "from typing import List\n",
    "import shutil\n",
    "\n",
    "import pandas as pd\n",
    "\n",
    "# ------------------ 账号 ------------------\n",
    "HSC_USR = os.getenv(\"HSC_USR\", \"zzhe\")\n",
    "HSC_PWD = os.getenv(\"HSC_PWD\", \"9aoO8ZfYKcKSRax54Gx0FXcTX0tBYvak6RO5bV+D\")\n",
    "\n",
    "# ------------------ 路径与常量 ------------------\n",
    "CSV_PATH   = \"/Users/hezizhao/Downloads/jupython-workspace/FH2/crossmatched__withDESI_6''_imgsrc.csv\"\n",
    "SCRIPT     = Path(\"./data-access-tools/pdr3/downloadCutout/downloadCutout.py\")\n",
    "OUT_DIR    = Path(\"/Users/hezizhao/Downloads/jupython-workspace/FH2/hsc_cutouts\"); OUT_DIR.mkdir(exist_ok=True)\n",
    "OLD_DIR=Path(\"/Users/hezizhao/Downloads/jupython-workspace/FH2/hsc_cutouts-old\")\n",
    "\n",
    "FILTERS: List[str] = [\"g\", \"r\", \"i\"]\n",
    "RERUN       = \"pdr3_wide\"\n",
    "FOV_AS      = 3.0\n",
    "SIZE_DEG    = FOV_AS / 3600.0\n",
    "\n",
    "MAX_RETRY   = 2\n",
    "RETRY_WAIT  = 1          # ← 等待 5 s\n",
    "DL_TIMEOUT  = 15         # ← 每次下载超时 15 s\n",
    "\n",
    "# ------------------ 读取目标 ------------------\n",
    "df = pd.read_csv(CSV_PATH,dtype={\"TARGETID\": \"int64\"} )\n",
    "targets = (\n",
    "    df[df[\"image source\"] == \"HSC\"][[\"TARGETID\", \"TARGET_RA\", \"TARGET_DEC\"]]\n",
    "    .dropna()\n",
    "    .reset_index(drop=True)\n",
    ")\n",
    "print(f\"目标共 {len(targets)} 个，每目标需下载 {len(FILTERS)} 张\")\n",
    "\n"
   ]
  },
  {
   "cell_type": "code",
   "execution_count": null,
   "metadata": {},
   "outputs": [],
   "source": []
  },
  {
   "cell_type": "code",
   "execution_count": 7,
   "metadata": {},
   "outputs": [
    {
     "name": "stdout",
     "output_type": "stream",
     "text": [
      "[ 64] hsc2789831897776129_r.fits 下载完成 ✓\n",
      "[ 64] hsc2789831897776129_i.fits 下载完成 ✓\n",
      "[247] hsc39627863657286622_i.fits 下载完成 ✓\n",
      "[254] hsc39627872750534843_r.fits 下载完成 ✓\n"
     ]
    },
    {
     "name": "stderr",
     "output_type": "stream",
     "text": [
      "Traceback (most recent call last):\n",
      "  File \"/opt/anaconda3/lib/python3.11/urllib/request.py\", line 1348, in do_open\n",
      "    h.request(req.get_method(), req.selector, req.data, headers,\n",
      "  File \"/opt/anaconda3/lib/python3.11/http/client.py\", line 1298, in request\n",
      "    self._send_request(method, url, body, headers, encode_chunked)\n",
      "  File \"/opt/anaconda3/lib/python3.11/http/client.py\", line 1344, in _send_request\n",
      "    self.endheaders(body, encode_chunked=encode_chunked)\n",
      "  File \"/opt/anaconda3/lib/python3.11/http/client.py\", line 1293, in endheaders\n",
      "    self._send_output(message_body, encode_chunked=encode_chunked)\n",
      "  File \"/opt/anaconda3/lib/python3.11/http/client.py\", line 1052, in _send_output\n",
      "    self.send(msg)\n",
      "  File \"/opt/anaconda3/lib/python3.11/http/client.py\", line 990, in send\n",
      "    self.connect()\n",
      "  File \"/opt/anaconda3/lib/python3.11/http/client.py\", line 1470, in connect\n",
      "    self.sock = self._context.wrap_socket(self.sock,\n",
      "                ^^^^^^^^^^^^^^^^^^^^^^^^^^^^^^^^^^^^\n",
      "  File \"/opt/anaconda3/lib/python3.11/ssl.py\", line 517, in wrap_socket\n",
      "    return self.sslsocket_class._create(\n",
      "           ^^^^^^^^^^^^^^^^^^^^^^^^^^^^^\n",
      "  File \"/opt/anaconda3/lib/python3.11/ssl.py\", line 1104, in _create\n",
      "    self.do_handshake()\n",
      "  File \"/opt/anaconda3/lib/python3.11/ssl.py\", line 1382, in do_handshake\n",
      "    self._sslobj.do_handshake()\n",
      "ssl.SSLEOFError: [SSL: UNEXPECTED_EOF_WHILE_READING] EOF occurred in violation of protocol (_ssl.c:1006)\n",
      "\n",
      "During handling of the above exception, another exception occurred:\n",
      "\n",
      "Traceback (most recent call last):\n",
      "  File \"/Users/hezizhao/Downloads/jupython-workspace/FH2/data-access-tools/pdr3/downloadCutout/downloadCutout.py\", line 1287, in <module>\n",
      "    main()\n",
      "  File \"/Users/hezizhao/Downloads/jupython-workspace/FH2/data-access-tools/pdr3/downloadCutout/downloadCutout.py\", line 180, in main\n",
      "    download(rects, user=args.user, password=args.password, onmemory=False)\n",
      "  File \"/Users/hezizhao/Downloads/jupython-workspace/FH2/data-access-tools/pdr3/downloadCutout/downloadCutout.py\", line 898, in download\n",
      "    ret = _download(rects, user, password, onmemory=onmemory)\n",
      "          ^^^^^^^^^^^^^^^^^^^^^^^^^^^^^^^^^^^^^^^^^^^^^^^^^^^\n",
      "  File \"/Users/hezizhao/Downloads/jupython-workspace/FH2/data-access-tools/pdr3/downloadCutout/downloadCutout.py\", line 960, in _download\n",
      "    ret = _download_chunk(exploded_rects[i : i+chunksize], user, password, onmemory=onmemory)\n",
      "          ^^^^^^^^^^^^^^^^^^^^^^^^^^^^^^^^^^^^^^^^^^^^^^^^^^^^^^^^^^^^^^^^^^^^^^^^^^^^^^^^^^^\n",
      "  File \"/Users/hezizhao/Downloads/jupython-workspace/FH2/data-access-tools/pdr3/downloadCutout/downloadCutout.py\", line 1034, in _download_chunk\n",
      "    with urllib.request.urlopen(req, timeout=3600) as fin:\n",
      "         ^^^^^^^^^^^^^^^^^^^^^^^^^^^^^^^^^^^^^^^^^\n",
      "  File \"/opt/anaconda3/lib/python3.11/urllib/request.py\", line 216, in urlopen\n",
      "    return opener.open(url, data, timeout)\n",
      "           ^^^^^^^^^^^^^^^^^^^^^^^^^^^^^^^\n",
      "  File \"/opt/anaconda3/lib/python3.11/urllib/request.py\", line 519, in open\n",
      "    response = self._open(req, data)\n",
      "               ^^^^^^^^^^^^^^^^^^^^^\n",
      "  File \"/opt/anaconda3/lib/python3.11/urllib/request.py\", line 536, in _open\n",
      "    result = self._call_chain(self.handle_open, protocol, protocol +\n",
      "             ^^^^^^^^^^^^^^^^^^^^^^^^^^^^^^^^^^^^^^^^^^^^^^^^^^^^^^^\n",
      "  File \"/opt/anaconda3/lib/python3.11/urllib/request.py\", line 496, in _call_chain\n",
      "    result = func(*args)\n",
      "             ^^^^^^^^^^^\n",
      "  File \"/opt/anaconda3/lib/python3.11/urllib/request.py\", line 1391, in https_open\n",
      "    return self.do_open(http.client.HTTPSConnection, req,\n",
      "           ^^^^^^^^^^^^^^^^^^^^^^^^^^^^^^^^^^^^^^^^^^^^^^\n",
      "  File \"/opt/anaconda3/lib/python3.11/urllib/request.py\", line 1351, in do_open\n",
      "    raise URLError(err)\n",
      "urllib.error.URLError: <urlopen error [SSL: UNEXPECTED_EOF_WHILE_READING] EOF occurred in violation of protocol (_ssl.c:1006)>\n"
     ]
    },
    {
     "name": "stdout",
     "output_type": "stream",
     "text": [
      "[262] hsc39627884767219584_g.fits 第 1 次失败（exit 1），1s 后重试…\n",
      "[262] hsc39627884767219584_g.fits 下载完成 ✓\n",
      "[264] hsc39627887153774699_r.fits 下载完成 ✓\n",
      "[264] hsc39627887153774699_i.fits 下载完成 ✓\n"
     ]
    }
   ],
   "source": [
    "# ------------------ 主循环 ------------------\n",
    "idx=0\n",
    "for row in targets.itertuples(index=True):\n",
    "    tid = int(row.TARGETID)\n",
    "    ra, dec = row.TARGET_RA, row.TARGET_DEC\n",
    "    idx+=1\n",
    "    for flt in FILTERS:\n",
    "        old_name = OLD_DIR/ f\"hsc{tid}_{flt}\"\n",
    "        old_name = old_name.with_suffix(\".fits\")\n",
    "        \n",
    "        prefix   = OUT_DIR / f\"hsc{tid}_{flt}\"\n",
    "        fitsfile = prefix.with_suffix(\".fits\")\n",
    "        \n",
    "        if old_name.exists() and old_name.stat().st_size > 0:\n",
    "            # print(f\"[{idx:3d}] {fitsfile.name} 已存在于旧目录 → 直接复制\")\n",
    "            shutil.copy(old_name,fitsfile)\n",
    "            continue\n",
    "\n",
    "        # -- 已有文件跳过 --\n",
    "        if fitsfile.exists() and fitsfile.stat().st_size > 0:\n",
    "            # print(f\"[{idx:3d}] {fitsfile.name} 已存在 → 跳过\")\n",
    "            continue\n",
    "\n",
    "        cmd = (\n",
    "            f\"python {SCRIPT} \"\n",
    "            f\"--ra {ra:.6f} --dec {dec:.6f} \"\n",
    "            f\"--sw {SIZE_DEG:.7f} --sh {SIZE_DEG:.7f} \"\n",
    "            f\"--filter {flt} \"\n",
    "            f\"--rerun {RERUN} \"\n",
    "            \"--max-connections 1 \"\n",
    "            \"--image true --mask false --variance false \"\n",
    "            \"--type coadd \"\n",
    "            f\"--name {prefix} \"\n",
    "            f\"--user {HSC_USR} --password {HSC_PWD}\"\n",
    "        )\n",
    "        cmd_args = shlex.split(cmd)\n",
    "\n",
    "        # -- 自动重试 --\n",
    "        for attempt in range(1, MAX_RETRY + 1):\n",
    "            try:\n",
    "                subprocess.run(cmd_args, check=True, timeout=DL_TIMEOUT)\n",
    "                print(f\"[{idx+1:3d}] {fitsfile.name} 下载完成 ✓\")\n",
    "                break\n",
    "            except subprocess.TimeoutExpired:\n",
    "                err_msg = \"timeout\"\n",
    "            except subprocess.CalledProcessError as e:\n",
    "                err_msg = f\"exit {e.returncode}\"\n",
    "\n",
    "            if attempt < MAX_RETRY:\n",
    "                print(\n",
    "                    f\"[{idx+1:3d}] {fitsfile.name} 第 {attempt} 次失败（{err_msg}），{RETRY_WAIT}s 后重试…\"\n",
    "                )\n",
    "                time.sleep(RETRY_WAIT)\n",
    "            else:\n",
    "                print(\n",
    "                    f\"[{idx+1:3d}] {fitsfile.name} 重试 {MAX_RETRY} 次仍失败 ✗ ({err_msg})\"\n",
    "                )\n"
   ]
  },
  {
   "cell_type": "code",
   "execution_count": 2,
   "metadata": {},
   "outputs": [],
   "source": [
    "problem_list=[2789831897776129,39627863657286622,39627887153774699]"
   ]
  },
  {
   "cell_type": "code",
   "execution_count": 9,
   "metadata": {},
   "outputs": [
    {
     "name": "stdout",
     "output_type": "stream",
     "text": [
      "39627887153774699 346.98603246590204 3.935137771804215\n"
     ]
    }
   ],
   "source": [
    "tid=problem_list[2]\n",
    "ra=targets[targets[\"TARGETID\"]==tid][\"TARGET_RA\"].tolist()[0]\n",
    "dec=targets[targets[\"TARGETID\"]==tid][\"TARGET_DEC\"].tolist()[0]\n",
    "print(tid,ra,dec)"
   ]
  },
  {
   "cell_type": "code",
   "execution_count": 10,
   "metadata": {},
   "outputs": [
    {
     "name": "stdout",
     "output_type": "stream",
     "text": [
      "[  1] hsc39627887153774699_g.fits 下载完成 ✓\n",
      "[  1] hsc39627887153774699_r.fits 下载完成 ✓\n",
      "[  1] hsc39627887153774699_i.fits 下载完成 ✓\n"
     ]
    }
   ],
   "source": [
    "idx=0\n",
    "for flt in FILTERS:\n",
    "    old_name = OLD_DIR/ f\"hsc{tid}_{flt}\"\n",
    "    old_name = old_name.with_suffix(\".fits\")\n",
    "    \n",
    "    prefix   = OUT_DIR / f\"hsc{tid}_{flt}\"\n",
    "    fitsfile = prefix.with_suffix(\".fits\")\n",
    "    \n",
    "    if old_name.exists() and old_name.stat().st_size > 0:\n",
    "        # print(f\"[{idx:3d}] {fitsfile.name} 已存在于旧目录 → 直接复制\")\n",
    "        shutil.copy(old_name,fitsfile)\n",
    "        continue\n",
    "\n",
    "    # -- 已有文件跳过 --\n",
    "    if fitsfile.exists() and fitsfile.stat().st_size > 0:\n",
    "        # print(f\"[{idx:3d}] {fitsfile.name} 已存在 → 跳过\")\n",
    "        continue\n",
    "\n",
    "    cmd = (\n",
    "        f\"python {SCRIPT} \"\n",
    "        f\"--ra {ra:.6f} --dec {dec:.6f} \"\n",
    "        f\"--sw {SIZE_DEG:.7f} --sh {SIZE_DEG:.7f} \"\n",
    "        f\"--filter {flt} \"\n",
    "        f\"--rerun {RERUN} \"\n",
    "        \"--max-connections 1 \"\n",
    "        \"--image true --mask false --variance false \"\n",
    "        \"--type coadd \"\n",
    "        f\"--name {prefix} \"\n",
    "        f\"--user {HSC_USR} --password {HSC_PWD}\"\n",
    "    )\n",
    "    cmd_args = shlex.split(cmd)\n",
    "\n",
    "    # -- 自动重试 --\n",
    "    for attempt in range(1, MAX_RETRY + 1):\n",
    "        try:\n",
    "            subprocess.run(cmd_args, check=True, timeout=DL_TIMEOUT)\n",
    "            print(f\"[{idx+1:3d}] {fitsfile.name} 下载完成 ✓\")\n",
    "            break\n",
    "        except subprocess.TimeoutExpired:\n",
    "            err_msg = \"timeout\"\n",
    "        except subprocess.CalledProcessError as e:\n",
    "            err_msg = f\"exit {e.returncode}\"\n",
    "\n",
    "        if attempt < MAX_RETRY:\n",
    "            print(\n",
    "                f\"[{idx+1:3d}] {fitsfile.name} 第 {attempt} 次失败（{err_msg}），{RETRY_WAIT}s 后重试…\"\n",
    "            )\n",
    "            time.sleep(RETRY_WAIT)\n",
    "        else:\n",
    "            print(\n",
    "                f\"[{idx+1:3d}] {fitsfile.name} 重试 {MAX_RETRY} 次仍失败 ✗ ({err_msg})\"\n",
    "            )"
   ]
  },
  {
   "cell_type": "markdown",
   "metadata": {},
   "source": [
    "### 今天弄清楚了，这三个系统就是有问题。2789831897776129和39627887153774699都是只有G波段的。39627863657286622虽然可以下载到r波段，但是是无效图像。39627863657286622没有i波段"
   ]
  },
  {
   "cell_type": "markdown",
   "metadata": {},
   "source": []
  }
 ],
 "metadata": {
  "kernelspec": {
   "display_name": "base",
   "language": "python",
   "name": "python3"
  },
  "language_info": {
   "codemirror_mode": {
    "name": "ipython",
    "version": 3
   },
   "file_extension": ".py",
   "mimetype": "text/x-python",
   "name": "python",
   "nbconvert_exporter": "python",
   "pygments_lexer": "ipython3",
   "version": "3.11.8"
  }
 },
 "nbformat": 4,
 "nbformat_minor": 2
}
