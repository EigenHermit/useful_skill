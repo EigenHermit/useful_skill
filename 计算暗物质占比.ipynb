{
 "cells": [
  {
   "cell_type": "code",
   "execution_count": 4,
   "metadata": {},
   "outputs": [],
   "source": [
    "from astropy.cosmology import FlatLambdaCDM\n",
    "import astropy.units as u\n",
    "import numpy as np\n",
    "from astropy.constants import c, G, M_sun\n",
    "from scipy.integrate import dblquad\n",
    "from astropy.cosmology import FlatLambdaCDM\n",
    "\n",
    "cosmo = FlatLambdaCDM(H0=70, Om0=0.3)  # 假设一个平坦的宇宙模型\n",
    "\n"
   ]
  },
  {
   "cell_type": "code",
   "execution_count": 5,
   "metadata": {},
   "outputs": [],
   "source": [
    "def critical_density(cosmo, zd, zs):\n",
    "    # 计算 D_LS\n",
    "    D_L  = cosmo.angular_diameter_distance(zd).to(u.m)\n",
    "    D_S  = cosmo.angular_diameter_distance(zs).to(u.m)\n",
    "    D_LS = cosmo.angular_diameter_distance_z1z2(zd,zs).to(u.m)\n",
    "    # 计算临界密度\n",
    "    sigma_crit = (c**2 / (4 * np.pi * G)) * (D_S / (D_L * D_LS))\n",
    "\n",
    "    # 返回单位为 kg/m²\n",
    "    return sigma_crit.to(u.kg / u.m**2)\n",
    "\n",
    "def Mlensing(thetaE_phy, Sigma_crit):\n",
    "    \n",
    "    # 计算 M_lensing\n",
    "    Mlensing = np.pi * (thetaE_phy ** 2) * Sigma_crit\n",
    "    \n",
    "    return Mlensing\n",
    "\n",
    "def einstein_radius_to_physical_meters(cosmo, thetaE_arcsec, zd):\n",
    "    \"\"\"\n",
    "    将爱因斯坦半径从角秒转换为红移 z_d 处的物理尺度（单位为米）。\n",
    "    \n",
    "    参数：\n",
    "    cosmo : astropy.cosmology.Cosmology\n",
    "        用于计算角直径距离的宇宙学模型（例如 FlatLambdaCDM）。\n",
    "    thetaE_arcsec : float\n",
    "        爱因斯坦半径，单位为角秒（arcsec）。\n",
    "    zd : float\n",
    "        透镜天体的红移 z_d。\n",
    "    \n",
    "    返回：\n",
    "    float\n",
    "        对应物理尺度，单位为米（m）。\n",
    "    \"\"\"\n",
    "    \n",
    "    # 将角秒转换为弧度\n",
    "    thetaE_rad = thetaE_arcsec * u.arcsec.to(u.rad)\n",
    "    \n",
    "    # 计算角直径距离 D_A(z_d) (单位为 Mpc)\n",
    "    D_A = cosmo.angular_diameter_distance(zd).to(u.m)  # 转换为米\n",
    "    \n",
    "    # 计算物理尺度\n",
    "    r_phys = D_A * thetaE_rad  # 物理尺度，单位为米（m）\n",
    "    \n",
    "    return r_phys\n",
    "\n",
    "def thetaE_2_Mlensing(thetaE,Sigma_crit):\n",
    "    thetaE_phy = einstein_radius_to_physical_meters(cosmo, thetaE, zd)\n",
    "    return Mlensing(thetaE_phy,Sigma_crit)"
   ]
  },
  {
   "cell_type": "code",
   "execution_count": 6,
   "metadata": {},
   "outputs": [],
   "source": [
    "# # 邓力艋透镜\n",
    "# zd=0.397\n",
    "# zs=1.4792\n",
    "\n",
    "# Sigma_crit = critical_density(cosmo, zd, zs)\n",
    "# print(f\"临界密度: {Sigma_crit}\")\n",
    "\n",
    "# thetaE1 = 0.424  # 角秒\n",
    "# Ml1 = thetaE_2_Mlensing(thetaE1, Sigma_crit)\n",
    "# print(f\"透镜质量: {Ml1}\")\n",
    "# Ml1 / M_sun"
   ]
  },
  {
   "cell_type": "code",
   "execution_count": 7,
   "metadata": {},
   "outputs": [
    {
     "name": "stdout",
     "output_type": "stream",
     "text": [
      "临界密度: 4.604545663295443 kg / m2\n",
      "透镜质量: 5.587910658395708e+41 kg\n"
     ]
    },
    {
     "data": {
      "text/latex": [
       "$2.8102409 \\times 10^{11} \\; \\mathrm{}$"
      ],
      "text/plain": [
       "<Quantity 2.81024086e+11>"
      ]
     },
     "execution_count": 7,
     "metadata": {},
     "output_type": "execute_result"
    }
   ],
   "source": [
    "zd = 0.79  # 透镜天体红移\n",
    "zs = 2.16  # 源天体红移\n",
    "\n",
    "Sigma_crit = critical_density(cosmo, zd, zs)\n",
    "print(f\"临界密度: {Sigma_crit}\")\n",
    "\n",
    "thetaE1 = 0.852  # 角秒\n",
    "Ml1 = thetaE_2_Mlensing(thetaE1, Sigma_crit)\n",
    "print(f\"透镜质量: {Ml1}\")\n",
    "Ml1 / M_sun"
   ]
  },
  {
   "cell_type": "code",
   "execution_count": 8,
   "metadata": {},
   "outputs": [
    {
     "name": "stdout",
     "output_type": "stream",
     "text": [
      "透镜质量: 2.2363913029653777e+41 kg\n"
     ]
    },
    {
     "data": {
      "text/latex": [
       "$1.1247134 \\times 10^{11} \\; \\mathrm{}$"
      ],
      "text/plain": [
       "<Quantity 1.12471344e+11>"
      ]
     },
     "execution_count": 8,
     "metadata": {},
     "output_type": "execute_result"
    }
   ],
   "source": [
    "# 示例使用：\n",
    "thetaE2 = 0.539  # 角秒\n",
    "Ml2 = thetaE_2_Mlensing(thetaE2, Sigma_crit)\n",
    "\n",
    "print(f\"透镜质量: {Ml2}\")\n",
    "Ml2 / M_sun"
   ]
  },
  {
   "cell_type": "code",
   "execution_count": 9,
   "metadata": {},
   "outputs": [],
   "source": [
    "def total_mass(\n",
    "    Sigma_crit,  # kg/m2\n",
    "    qEPL,        # 无量纲\n",
    "    gammaEPL,    # 无量纲\n",
    "    thetaE,      # 角秒\n",
    "    qSER,        # 无量纲\n",
    "    phiSER,      # 度\n",
    "    re,          # 角秒\n",
    "    zd,          # 星系红移\n",
    "    cosmo        # astropy 宇宙学模型\n",
    "):\n",
    "    # 1. 角直径距离 (m)\n",
    "    D_A = cosmo.angular_diameter_distance(zd).to(u.m).value\n",
    "\n",
    "    # 2. 单位转换因子：arcsec -> rad\n",
    "    arcsec2rad = np.pi / (180.0 * 3600.0)\n",
    "\n",
    "    # 3. 椭圆半轴 (arcsec)\n",
    "    a = np.sqrt(re / qSER)\n",
    "    b = np.sqrt(re * qSER)\n",
    "\n",
    "    # 4. 旋转角度 (rad)\n",
    "    phi = np.deg2rad(phiSER)\n",
    "\n",
    "    # 5. Σ(x,y) 函数，输入 x,y 单位为 arcsec\n",
    "    def Sigma_xy(x, y):\n",
    "        r_term = np.sqrt(qEPL * x**2 + y**2 / qEPL)\n",
    "        return Sigma_crit * (3.0 - gammaEPL) / 2.0 * (thetaE / r_term)**(gammaEPL - 1.0)\n",
    "\n",
    "    # 6. 极坐标下的被积函数 (r, θ)\n",
    "    def integrand(theta, r):\n",
    "        # 归一化 u,v\n",
    "        u_ = r * np.cos(theta)\n",
    "        v_ = r * np.sin(theta)\n",
    "        # 拉伸到 x', y'\n",
    "        x_p = a * u_\n",
    "        y_p = b * v_\n",
    "        # 旋转到原坐标 x, y\n",
    "        x =  x_p * np.cos(phi) - y_p * np.sin(phi)\n",
    "        y =  x_p * np.sin(phi) + y_p * np.cos(phi)\n",
    "        # 返回 Σ(x,y) * r\n",
    "        return Sigma_xy(x, y) * r\n",
    "\n",
    "    # 7. 数值积分：r ∈ [0,1], θ ∈ [0,2π]\n",
    "    integral, error = dblquad(\n",
    "        integrand,\n",
    "        0.0,        # r 下限\n",
    "        1.0,        # r 上限\n",
    "        lambda r: 0.0,        # θ 下限\n",
    "        lambda r: 2*np.pi     # θ 上限\n",
    "    )\n",
    "\n",
    "    # 8. 转换到物理面积并乘以 a·b\n",
    "    area_factor = (D_A * arcsec2rad)**2\n",
    "    mass = integral * a * b * area_factor  # 单位：kg\n",
    "\n",
    "    return mass\n"
   ]
  },
  {
   "cell_type": "code",
   "execution_count": 10,
   "metadata": {},
   "outputs": [
    {
     "name": "stdout",
     "output_type": "stream",
     "text": [
      "Total mass of lens1 = 9.630e+41 kg \n",
      "Total mass of lens2 = 1.424e+41 kg \n"
     ]
    },
    {
     "data": {
      "text/latex": [
       "$4.8431005 \\times 10^{11} \\; \\mathrm{}$"
      ],
      "text/plain": [
       "<Quantity 4.8431005e+11>"
      ]
     },
     "execution_count": 10,
     "metadata": {},
     "output_type": "execute_result"
    }
   ],
   "source": [
    "\n",
    "Mlens1 = total_mass(\n",
    "    Sigma_crit=Sigma_crit.value,    # kg/m2\n",
    "    qEPL=0.695,\n",
    "    gammaEPL=1.75,\n",
    "    thetaE=0.852,       # arcsec\n",
    "    qSER=0.86,\n",
    "    phiSER=-89.459,       # deg\n",
    "    re=(5.29*0.168)*2,         # arcsec (a·b = re)\n",
    "    zd=zd,\n",
    "    cosmo=cosmo\n",
    ")\n",
    "\n",
    "Mlens2 = total_mass(\n",
    "    Sigma_crit=Sigma_crit.value,    # kg/m2\n",
    "    qEPL=0.605,\n",
    "    gammaEPL=1.84,\n",
    "    thetaE=0.539,        # arcsec\n",
    "    qSER=0.6359,\n",
    "    phiSER=82.74,       # deg\n",
    "    re=(2.277*0.168)**2,            # arcsec (a·b = re)\n",
    "    zd=zd,\n",
    "    cosmo=cosmo\n",
    ")\n",
    "\n",
    "Mlens1=Mlens1*u.kg\n",
    "Mlens2=Mlens2*u.kg\n",
    "print(f\"Total mass of lens1 = {Mlens1:.3e} \")\n",
    "print(f\"Total mass of lens2 = {Mlens2:.3e} \")\n",
    "\n",
    "Mlens1 / M_sun"
   ]
  },
  {
   "cell_type": "code",
   "execution_count": 11,
   "metadata": {},
   "outputs": [
    {
     "data": {
      "text/latex": [
       "$7.16244 \\times 10^{10} \\; \\mathrm{}$"
      ],
      "text/plain": [
       "<Quantity 7.16243999e+10>"
      ]
     },
     "execution_count": 11,
     "metadata": {},
     "output_type": "execute_result"
    }
   ],
   "source": [
    "Mlens2 / M_sun"
   ]
  },
  {
   "cell_type": "code",
   "execution_count": 12,
   "metadata": {},
   "outputs": [
    {
     "data": {
      "text/latex": [
       "$5.5593445 \\times 10^{11} \\; \\mathrm{}$"
      ],
      "text/plain": [
       "<Quantity 5.55934449e+11>"
      ]
     },
     "execution_count": 12,
     "metadata": {},
     "output_type": "execute_result"
    }
   ],
   "source": [
    "(Mlens1+Mlens2)/ M_sun"
   ]
  },
  {
   "cell_type": "code",
   "execution_count": 13,
   "metadata": {},
   "outputs": [
    {
     "data": {
      "text/latex": [
       "$0.71884143 \\; \\mathrm{}$"
      ],
      "text/plain": [
       "<Quantity 0.71884143>"
      ]
     },
     "execution_count": 13,
     "metadata": {},
     "output_type": "execute_result"
    }
   ],
   "source": [
    "1-(2.7233583942094177/2 * 10**11 *M_sun)/Mlens1"
   ]
  },
  {
   "cell_type": "code",
   "execution_count": 14,
   "metadata": {},
   "outputs": [
    {
     "data": {
      "text/latex": [
       "$0.22842759 \\; \\mathrm{}$"
      ],
      "text/plain": [
       "<Quantity 0.22842759>"
      ]
     },
     "execution_count": 14,
     "metadata": {},
     "output_type": "execute_result"
    }
   ],
   "source": [
    "1-(1.1052682195316391/2 * 10**11 *M_sun)/Mlens2"
   ]
  },
  {
   "cell_type": "code",
   "execution_count": null,
   "metadata": {},
   "outputs": [],
   "source": []
  }
 ],
 "metadata": {
  "kernelspec": {
   "display_name": "base",
   "language": "python",
   "name": "python3"
  },
  "language_info": {
   "codemirror_mode": {
    "name": "ipython",
    "version": 3
   },
   "file_extension": ".py",
   "mimetype": "text/x-python",
   "name": "python",
   "nbconvert_exporter": "python",
   "pygments_lexer": "ipython3",
   "version": "3.8.3"
  }
 },
 "nbformat": 4,
 "nbformat_minor": 2
}
